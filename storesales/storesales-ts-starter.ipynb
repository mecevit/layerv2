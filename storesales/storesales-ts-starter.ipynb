{
 "cells": [
  {
   "cell_type": "markdown",
   "id": "02ba3b7c",
   "metadata": {
    "papermill": {
     "duration": 0.036792,
     "end_time": "2021-10-31T12:45:25.806550",
     "exception": false,
     "start_time": "2021-10-31T12:45:25.769758",
     "status": "completed"
    },
    "tags": []
   },
   "source": [
    "# Intro\n",
    "Welcome to the [Store Sales - Time Series Forecasting](https://www.kaggle.com/c/store-sales-time-series-forecasting/data) competition.\n",
    "![](https://storage.googleapis.com/kaggle-competitions/kaggle/29781/logos/header.png)\n",
    "\n",
    "In this competition, we have to predict sales for the thousands of product families sold at Favorita stores located in [Ecuador](https://en.wikipedia.org/wiki/Ecuador).\n",
    "\n",
    "<span style=\"color: royalblue;\">Please vote the notebook up if it helps you. Feel free to leave a comment above the notebook. Thank you. </span>"
   ]
  },
  {
   "cell_type": "markdown",
   "id": "1a09d50d",
   "metadata": {
    "papermill": {
     "duration": 0.03566,
     "end_time": "2021-10-31T12:45:25.878805",
     "exception": false,
     "start_time": "2021-10-31T12:45:25.843145",
     "status": "completed"
    },
    "tags": []
   },
   "source": [
    "# Libraries"
   ]
  },
  {
   "cell_type": "code",
   "execution_count": 1,
   "id": "708f4d14",
   "metadata": {
    "papermill": {
     "duration": 1.760208,
     "end_time": "2021-10-31T12:45:27.675911",
     "exception": false,
     "start_time": "2021-10-31T12:45:25.915703",
     "status": "completed"
    },
    "tags": []
   },
   "outputs": [],
   "source": [
    "import os\n",
    "import sys\n",
    "\n",
    "module_path = os.path.abspath(os.path.join('..'))\n",
    "sys.path.append(module_path)\n",
    "\n",
    "from layersdk import Layer,dataset,model\n",
    "\n",
    "import pandas as pd\n",
    "import numpy as np\n",
    "import matplotlib.pyplot as plt\n",
    "\n",
    "from sklearn import preprocessing\n",
    "from xgboost import XGBRegressor\n",
    "from sklearn.linear_model import LinearRegression\n",
    "from sklearn.metrics import mean_squared_log_error\n",
    "from sklearn.model_selection import train_test_split\n",
    "\n",
    "\n",
    "import warnings\n",
    "warnings.filterwarnings(\"ignore\")"
   ]
  },
  {
   "cell_type": "markdown",
   "id": "cd8002d9",
   "metadata": {
    "papermill": {
     "duration": 0.034329,
     "end_time": "2021-10-31T12:45:27.746433",
     "exception": false,
     "start_time": "2021-10-31T12:45:27.712104",
     "status": "completed"
    },
    "tags": []
   },
   "source": [
    "# Path"
   ]
  },
  {
   "cell_type": "code",
   "execution_count": 2,
   "id": "c3ad7bf7",
   "metadata": {
    "papermill": {
     "duration": 0.052432,
     "end_time": "2021-10-31T12:45:27.835322",
     "exception": false,
     "start_time": "2021-10-31T12:45:27.782890",
     "status": "completed"
    },
    "tags": []
   },
   "outputs": [
    {
     "data": {
      "text/plain": [
       "['storesales-ts-starter.ipynb',\n",
       " 'test.csv',\n",
       " '__init__.py',\n",
       " 'README.md',\n",
       " 'storesales-ts-starter_original.ipynb',\n",
       " '.ipynb_checkpoints',\n",
       " 'train_sampled.csv']"
      ]
     },
     "execution_count": 2,
     "metadata": {},
     "output_type": "execute_result"
    }
   ],
   "source": [
    "path = './'\n",
    "os.listdir(path)"
   ]
  },
  {
   "cell_type": "markdown",
   "id": "bc201675",
   "metadata": {
    "papermill": {
     "duration": 0.03571,
     "end_time": "2021-10-31T12:45:27.906441",
     "exception": false,
     "start_time": "2021-10-31T12:45:27.870731",
     "status": "completed"
    },
    "tags": []
   },
   "source": [
    "# Load Data"
   ]
  },
  {
   "cell_type": "code",
   "execution_count": 3,
   "id": "03872558-6f26-4b2c-bafd-aa8758589a4b",
   "metadata": {},
   "outputs": [],
   "source": [
    "layer = Layer(\"store-sales\")"
   ]
  },
  {
   "cell_type": "code",
   "execution_count": 15,
   "id": "39682650",
   "metadata": {
    "papermill": {
     "duration": 4.052512,
     "end_time": "2021-10-31T12:45:31.994286",
     "exception": false,
     "start_time": "2021-10-31T12:45:27.941774",
     "status": "completed"
    },
    "tags": []
   },
   "outputs": [
    {
     "name": "stdout",
     "output_type": "stream",
     "text": [
      "* Building train...\n"
     ]
    },
    {
     "data": {
      "text/html": [
       "<div>\n",
       "<style scoped>\n",
       "    .dataframe tbody tr th:only-of-type {\n",
       "        vertical-align: middle;\n",
       "    }\n",
       "\n",
       "    .dataframe tbody tr th {\n",
       "        vertical-align: top;\n",
       "    }\n",
       "\n",
       "    .dataframe thead th {\n",
       "        text-align: right;\n",
       "    }\n",
       "</style>\n",
       "<table border=\"1\" class=\"dataframe\">\n",
       "  <thead>\n",
       "    <tr style=\"text-align: right;\">\n",
       "      <th></th>\n",
       "      <th>date</th>\n",
       "      <th>store_nbr</th>\n",
       "      <th>family</th>\n",
       "      <th>sales</th>\n",
       "      <th>onpromotion</th>\n",
       "    </tr>\n",
       "    <tr>\n",
       "      <th>id</th>\n",
       "      <th></th>\n",
       "      <th></th>\n",
       "      <th></th>\n",
       "      <th></th>\n",
       "      <th></th>\n",
       "    </tr>\n",
       "  </thead>\n",
       "  <tbody>\n",
       "    <tr>\n",
       "      <th>2890663</th>\n",
       "      <td>2017-06-15</td>\n",
       "      <td>16</td>\n",
       "      <td>POULTRY</td>\n",
       "      <td>48.267002</td>\n",
       "      <td>0</td>\n",
       "    </tr>\n",
       "    <tr>\n",
       "      <th>590393</th>\n",
       "      <td>2013-11-28</td>\n",
       "      <td>24</td>\n",
       "      <td>MAGAZINES</td>\n",
       "      <td>0.000000</td>\n",
       "      <td>0</td>\n",
       "    </tr>\n",
       "    <tr>\n",
       "      <th>663785</th>\n",
       "      <td>2014-01-09</td>\n",
       "      <td>33</td>\n",
       "      <td>MAGAZINES</td>\n",
       "      <td>0.000000</td>\n",
       "      <td>0</td>\n",
       "    </tr>\n",
       "    <tr>\n",
       "      <th>2772047</th>\n",
       "      <td>2017-04-09</td>\n",
       "      <td>38</td>\n",
       "      <td>HARDWARE</td>\n",
       "      <td>0.000000</td>\n",
       "      <td>0</td>\n",
       "    </tr>\n",
       "    <tr>\n",
       "      <th>817057</th>\n",
       "      <td>2014-04-05</td>\n",
       "      <td>34</td>\n",
       "      <td>EGGS</td>\n",
       "      <td>51.000000</td>\n",
       "      <td>0</td>\n",
       "    </tr>\n",
       "    <tr>\n",
       "      <th>...</th>\n",
       "      <td>...</td>\n",
       "      <td>...</td>\n",
       "      <td>...</td>\n",
       "      <td>...</td>\n",
       "      <td>...</td>\n",
       "    </tr>\n",
       "    <tr>\n",
       "      <th>177723</th>\n",
       "      <td>2013-04-10</td>\n",
       "      <td>45</td>\n",
       "      <td>HOME CARE</td>\n",
       "      <td>0.000000</td>\n",
       "      <td>0</td>\n",
       "    </tr>\n",
       "    <tr>\n",
       "      <th>923059</th>\n",
       "      <td>2014-06-03</td>\n",
       "      <td>9</td>\n",
       "      <td>HOME AND KITCHEN II</td>\n",
       "      <td>0.000000</td>\n",
       "      <td>0</td>\n",
       "    </tr>\n",
       "    <tr>\n",
       "      <th>1811584</th>\n",
       "      <td>2015-10-16</td>\n",
       "      <td>39</td>\n",
       "      <td>HOME AND KITCHEN II</td>\n",
       "      <td>29.000000</td>\n",
       "      <td>0</td>\n",
       "    </tr>\n",
       "    <tr>\n",
       "      <th>2204880</th>\n",
       "      <td>2016-05-25</td>\n",
       "      <td>24</td>\n",
       "      <td>HOME CARE</td>\n",
       "      <td>240.000000</td>\n",
       "      <td>0</td>\n",
       "    </tr>\n",
       "    <tr>\n",
       "      <th>897336</th>\n",
       "      <td>2014-05-20</td>\n",
       "      <td>37</td>\n",
       "      <td>AUTOMOTIVE</td>\n",
       "      <td>2.000000</td>\n",
       "      <td>0</td>\n",
       "    </tr>\n",
       "  </tbody>\n",
       "</table>\n",
       "<p>50000 rows × 5 columns</p>\n",
       "</div>"
      ],
      "text/plain": [
       "               date  store_nbr               family       sales  onpromotion\n",
       "id                                                                          \n",
       "2890663  2017-06-15         16              POULTRY   48.267002            0\n",
       "590393   2013-11-28         24            MAGAZINES    0.000000            0\n",
       "663785   2014-01-09         33            MAGAZINES    0.000000            0\n",
       "2772047  2017-04-09         38             HARDWARE    0.000000            0\n",
       "817057   2014-04-05         34                 EGGS   51.000000            0\n",
       "...             ...        ...                  ...         ...          ...\n",
       "177723   2013-04-10         45            HOME CARE    0.000000            0\n",
       "923059   2014-06-03          9  HOME AND KITCHEN II    0.000000            0\n",
       "1811584  2015-10-16         39  HOME AND KITCHEN II   29.000000            0\n",
       "2204880  2016-05-25         24            HOME CARE  240.000000            0\n",
       "897336   2014-05-20         37           AUTOMOTIVE    2.000000            0\n",
       "\n",
       "[50000 rows x 5 columns]"
      ]
     },
     "execution_count": 15,
     "metadata": {},
     "output_type": "execute_result"
    }
   ],
   "source": [
    "@dataset(\"train\")\n",
    "def build_train_data():\n",
    "    return pd.read_csv(path+'train_sampled.csv', index_col=0)\n",
    "\n",
    "@dataset(\"test\")\n",
    "def build_test_data():\n",
    "    return pd.read_csv(path+'test.csv', index_col=0)\n",
    "\n",
    "# layer.run([build_train_data, build_test_data])\n",
    "# train_data = layer.get_dataset(\"train\").to_pandas()\n",
    "# test_data = layer.get_dataset(\"test\").to_pandas()\n",
    "\n",
    "build_train_data()"
   ]
  },
  {
   "cell_type": "markdown",
   "id": "c62b238a",
   "metadata": {
    "papermill": {
     "duration": 0.038139,
     "end_time": "2021-10-31T12:45:32.072754",
     "exception": false,
     "start_time": "2021-10-31T12:45:32.034615",
     "status": "completed"
    },
    "tags": []
   },
   "source": [
    "# Overview"
   ]
  },
  {
   "cell_type": "code",
   "execution_count": 5,
   "id": "41458dbb",
   "metadata": {
    "papermill": {
     "duration": 0.05045,
     "end_time": "2021-10-31T12:45:32.161393",
     "exception": false,
     "start_time": "2021-10-31T12:45:32.110943",
     "status": "completed"
    },
    "tags": []
   },
   "outputs": [
    {
     "name": "stdout",
     "output_type": "stream",
     "text": [
      "Number of train samples:  50000\n",
      "Number of test samples:  28512\n",
      "Number of features:  5\n"
     ]
    }
   ],
   "source": [
    "\n",
    "\n",
    "print('Number of train samples: ', len(train_data.index))\n",
    "print('Number of test samples: ', len(test_data.index))\n",
    "print('Number of features: ', len(train_data.columns))"
   ]
  },
  {
   "cell_type": "code",
   "execution_count": 6,
   "id": "7e4105cf",
   "metadata": {
    "papermill": {
     "duration": 0.06933,
     "end_time": "2021-10-31T12:45:32.268843",
     "exception": false,
     "start_time": "2021-10-31T12:45:32.199513",
     "status": "completed"
    },
    "tags": []
   },
   "outputs": [
    {
     "data": {
      "text/html": [
       "<div>\n",
       "<style scoped>\n",
       "    .dataframe tbody tr th:only-of-type {\n",
       "        vertical-align: middle;\n",
       "    }\n",
       "\n",
       "    .dataframe tbody tr th {\n",
       "        vertical-align: top;\n",
       "    }\n",
       "\n",
       "    .dataframe thead th {\n",
       "        text-align: right;\n",
       "    }\n",
       "</style>\n",
       "<table border=\"1\" class=\"dataframe\">\n",
       "  <thead>\n",
       "    <tr style=\"text-align: right;\">\n",
       "      <th></th>\n",
       "      <th>date</th>\n",
       "      <th>store_nbr</th>\n",
       "      <th>family</th>\n",
       "      <th>sales</th>\n",
       "      <th>onpromotion</th>\n",
       "    </tr>\n",
       "    <tr>\n",
       "      <th>id</th>\n",
       "      <th></th>\n",
       "      <th></th>\n",
       "      <th></th>\n",
       "      <th></th>\n",
       "      <th></th>\n",
       "    </tr>\n",
       "  </thead>\n",
       "  <tbody>\n",
       "    <tr>\n",
       "      <th>2890663</th>\n",
       "      <td>2017-06-15</td>\n",
       "      <td>16</td>\n",
       "      <td>POULTRY</td>\n",
       "      <td>48.267002</td>\n",
       "      <td>0</td>\n",
       "    </tr>\n",
       "    <tr>\n",
       "      <th>590393</th>\n",
       "      <td>2013-11-28</td>\n",
       "      <td>24</td>\n",
       "      <td>MAGAZINES</td>\n",
       "      <td>0.000000</td>\n",
       "      <td>0</td>\n",
       "    </tr>\n",
       "    <tr>\n",
       "      <th>663785</th>\n",
       "      <td>2014-01-09</td>\n",
       "      <td>33</td>\n",
       "      <td>MAGAZINES</td>\n",
       "      <td>0.000000</td>\n",
       "      <td>0</td>\n",
       "    </tr>\n",
       "    <tr>\n",
       "      <th>2772047</th>\n",
       "      <td>2017-04-09</td>\n",
       "      <td>38</td>\n",
       "      <td>HARDWARE</td>\n",
       "      <td>0.000000</td>\n",
       "      <td>0</td>\n",
       "    </tr>\n",
       "    <tr>\n",
       "      <th>817057</th>\n",
       "      <td>2014-04-05</td>\n",
       "      <td>34</td>\n",
       "      <td>EGGS</td>\n",
       "      <td>51.000000</td>\n",
       "      <td>0</td>\n",
       "    </tr>\n",
       "  </tbody>\n",
       "</table>\n",
       "</div>"
      ],
      "text/plain": [
       "               date  store_nbr     family      sales  onpromotion\n",
       "id                                                               \n",
       "2890663  2017-06-15         16    POULTRY  48.267002            0\n",
       "590393   2013-11-28         24  MAGAZINES   0.000000            0\n",
       "663785   2014-01-09         33  MAGAZINES   0.000000            0\n",
       "2772047  2017-04-09         38   HARDWARE   0.000000            0\n",
       "817057   2014-04-05         34       EGGS  51.000000            0"
      ]
     },
     "execution_count": 6,
     "metadata": {},
     "output_type": "execute_result"
    }
   ],
   "source": [
    "train_data.head()"
   ]
  },
  {
   "cell_type": "code",
   "execution_count": 7,
   "id": "0f04f9f1",
   "metadata": {
    "papermill": {
     "duration": 0.067718,
     "end_time": "2021-10-31T12:45:32.376720",
     "exception": false,
     "start_time": "2021-10-31T12:45:32.309002",
     "status": "completed"
    },
    "tags": []
   },
   "outputs": [
    {
     "data": {
      "text/html": [
       "<div>\n",
       "<style scoped>\n",
       "    .dataframe tbody tr th:only-of-type {\n",
       "        vertical-align: middle;\n",
       "    }\n",
       "\n",
       "    .dataframe tbody tr th {\n",
       "        vertical-align: top;\n",
       "    }\n",
       "\n",
       "    .dataframe thead th {\n",
       "        text-align: right;\n",
       "    }\n",
       "</style>\n",
       "<table border=\"1\" class=\"dataframe\">\n",
       "  <thead>\n",
       "    <tr style=\"text-align: right;\">\n",
       "      <th></th>\n",
       "      <th>date</th>\n",
       "      <th>store_nbr</th>\n",
       "      <th>family</th>\n",
       "      <th>onpromotion</th>\n",
       "    </tr>\n",
       "    <tr>\n",
       "      <th>id</th>\n",
       "      <th></th>\n",
       "      <th></th>\n",
       "      <th></th>\n",
       "      <th></th>\n",
       "    </tr>\n",
       "  </thead>\n",
       "  <tbody>\n",
       "    <tr>\n",
       "      <th>3000888</th>\n",
       "      <td>2017-08-16</td>\n",
       "      <td>1</td>\n",
       "      <td>AUTOMOTIVE</td>\n",
       "      <td>0</td>\n",
       "    </tr>\n",
       "    <tr>\n",
       "      <th>3000889</th>\n",
       "      <td>2017-08-16</td>\n",
       "      <td>1</td>\n",
       "      <td>BABY CARE</td>\n",
       "      <td>0</td>\n",
       "    </tr>\n",
       "    <tr>\n",
       "      <th>3000890</th>\n",
       "      <td>2017-08-16</td>\n",
       "      <td>1</td>\n",
       "      <td>BEAUTY</td>\n",
       "      <td>2</td>\n",
       "    </tr>\n",
       "    <tr>\n",
       "      <th>3000891</th>\n",
       "      <td>2017-08-16</td>\n",
       "      <td>1</td>\n",
       "      <td>BEVERAGES</td>\n",
       "      <td>20</td>\n",
       "    </tr>\n",
       "    <tr>\n",
       "      <th>3000892</th>\n",
       "      <td>2017-08-16</td>\n",
       "      <td>1</td>\n",
       "      <td>BOOKS</td>\n",
       "      <td>0</td>\n",
       "    </tr>\n",
       "  </tbody>\n",
       "</table>\n",
       "</div>"
      ],
      "text/plain": [
       "               date  store_nbr      family  onpromotion\n",
       "id                                                     \n",
       "3000888  2017-08-16          1  AUTOMOTIVE            0\n",
       "3000889  2017-08-16          1   BABY CARE            0\n",
       "3000890  2017-08-16          1      BEAUTY            2\n",
       "3000891  2017-08-16          1   BEVERAGES           20\n",
       "3000892  2017-08-16          1       BOOKS            0"
      ]
     },
     "execution_count": 7,
     "metadata": {},
     "output_type": "execute_result"
    }
   ],
   "source": [
    "test_data.head()"
   ]
  },
  {
   "cell_type": "markdown",
   "id": "6c357f34",
   "metadata": {
    "papermill": {
     "duration": 0.037912,
     "end_time": "2021-10-31T12:45:32.455394",
     "exception": false,
     "start_time": "2021-10-31T12:45:32.417482",
     "status": "completed"
    },
    "tags": []
   },
   "source": [
    "# Exploratory Data Analysis"
   ]
  },
  {
   "cell_type": "markdown",
   "id": "2224739f",
   "metadata": {
    "papermill": {
     "duration": 0.038745,
     "end_time": "2021-10-31T12:45:32.534364",
     "exception": false,
     "start_time": "2021-10-31T12:45:32.495619",
     "status": "completed"
    },
    "tags": []
   },
   "source": [
    "## Feature family\n",
    "The feature family has 33 categorical values which we have to encode later. The values are evenly distributed."
   ]
  },
  {
   "cell_type": "code",
   "execution_count": 8,
   "id": "205a9318",
   "metadata": {
    "papermill": {
     "duration": 0.616015,
     "end_time": "2021-10-31T12:45:33.188942",
     "exception": false,
     "start_time": "2021-10-31T12:45:32.572927",
     "status": "completed"
    },
    "tags": []
   },
   "outputs": [
    {
     "data": {
      "text/plain": [
       "HOME AND KITCHEN II    1615\n",
       "PERSONAL CARE          1565\n",
       "FROZEN FOODS           1553\n",
       "Name: family, dtype: int64"
      ]
     },
     "execution_count": 8,
     "metadata": {},
     "output_type": "execute_result"
    }
   ],
   "source": [
    "train_data['family'].value_counts()[0:3]"
   ]
  },
  {
   "cell_type": "markdown",
   "id": "a419ea03",
   "metadata": {
    "papermill": {
     "duration": 0.039154,
     "end_time": "2021-10-31T12:45:34.095846",
     "exception": false,
     "start_time": "2021-10-31T12:45:34.056692",
     "status": "completed"
    },
    "tags": []
   },
   "source": [
    "# Feature Engineering"
   ]
  },
  {
   "cell_type": "code",
   "execution_count": 9,
   "id": "abeb0748",
   "metadata": {
    "papermill": {
     "duration": 0.051562,
     "end_time": "2021-10-31T12:45:34.187016",
     "exception": false,
     "start_time": "2021-10-31T12:45:34.135454",
     "status": "completed"
    },
    "tags": []
   },
   "outputs": [],
   "source": [
    "features = ['store_nbr', 'family', 'onpromotion']\n",
    "target = 'sales'"
   ]
  },
  {
   "cell_type": "markdown",
   "id": "cd5bd062",
   "metadata": {
    "papermill": {
     "duration": 0.040881,
     "end_time": "2021-10-31T12:45:34.269345",
     "exception": false,
     "start_time": "2021-10-31T12:45:34.228464",
     "status": "completed"
    },
    "tags": []
   },
   "source": [
    "## Create Feature Weekday\n",
    "Based on the feature date we can create the features weekday, month or year."
   ]
  },
  {
   "cell_type": "code",
   "execution_count": 10,
   "id": "b46503c3",
   "metadata": {
    "papermill": {
     "duration": 0.051829,
     "end_time": "2021-10-31T12:45:34.362660",
     "exception": false,
     "start_time": "2021-10-31T12:45:34.310831",
     "status": "completed"
    },
    "tags": []
   },
   "outputs": [],
   "source": [
    "def extract_weekday(s):\n",
    "    return s.dayofweek\n",
    "\n",
    "def extract_month(s):\n",
    "    return s.month\n",
    "\n",
    "def extract_year(s):\n",
    "    return s.year"
   ]
  },
  {
   "cell_type": "code",
   "execution_count": 11,
   "id": "b6578557",
   "metadata": {
    "papermill": {
     "duration": 69.733634,
     "end_time": "2021-10-31T12:46:44.138071",
     "exception": false,
     "start_time": "2021-10-31T12:45:34.404437",
     "status": "completed"
    },
    "tags": []
   },
   "outputs": [
    {
     "name": "stdout",
     "output_type": "stream",
     "text": [
      "--- Layer Infra: Running Project: store-sales ---\n",
      "* Building test_features...\n",
      "* Building train_features...\n",
      "               date  store_nbr     family      sales  onpromotion\n",
      "id                                                               \n",
      "2890663  2017-06-15         16    POULTRY  48.267002            0\n",
      "590393   2013-11-28         24  MAGAZINES   0.000000            0\n",
      "663785   2014-01-09         33  MAGAZINES   0.000000            0\n",
      "2772047  2017-04-09         38   HARDWARE   0.000000            0\n",
      "817057   2014-04-05         34       EGGS  51.000000            0\n",
      "--- Layer Infra: Run Complete! ---\n"
     ]
    }
   ],
   "source": [
    "enc = preprocessing.LabelEncoder()\n",
    "enc.fit(train_data['family'])\n",
    "\n",
    "@dataset(\"train_features\")\n",
    "def build_train_features():\n",
    "    train_data = layer.get_dataset(\"train\").to_pandas()\n",
    "    print(train_data.head())\n",
    "    train_data['date'] = pd.to_datetime(train_data['date'])\n",
    "    train_data['weekday'] = train_data['date'].apply(extract_weekday)\n",
    "    train_data['year'] = train_data['date'].apply(extract_year)\n",
    "    train_data['month'] = train_data['date'].apply(extract_month)\n",
    "    train_data['family'] = enc.transform(train_data['family'])\n",
    "    return train_data\n",
    "\n",
    "@dataset(\"test_features\")\n",
    "def build_test_features():\n",
    "    test_data = layer.get_dataset(\"test\").to_pandas()\n",
    "    test_data['date'] = pd.to_datetime(test_data['date'])\n",
    "    test_data['weekday'] = test_data['date'].apply(extract_weekday)\n",
    "    test_data['year'] = test_data['date'].apply(extract_year)\n",
    "    test_data['month'] = test_data['date'].apply(extract_month)\n",
    "    test_data['family'] = enc.transform(test_data['family'])\n",
    "    return test_data\n",
    "    \n",
    "layer.run([build_test_features, build_train_features])\n",
    "# build_test_features().head()"
   ]
  },
  {
   "cell_type": "code",
   "execution_count": 12,
   "id": "d0f3a380",
   "metadata": {
    "papermill": {
     "duration": 0.050176,
     "end_time": "2021-10-31T12:46:44.228705",
     "exception": false,
     "start_time": "2021-10-31T12:46:44.178529",
     "status": "completed"
    },
    "tags": []
   },
   "outputs": [],
   "source": [
    "features.append('weekday')\n",
    "features.append('year')\n",
    "features.append('month')"
   ]
  },
  {
   "cell_type": "markdown",
   "id": "d9ca5ef8",
   "metadata": {
    "papermill": {
     "duration": 0.039759,
     "end_time": "2021-10-31T12:46:47.146460",
     "exception": false,
     "start_time": "2021-10-31T12:46:47.106701",
     "status": "completed"
    },
    "tags": []
   },
   "source": [
    "# Simple Model\n",
    "First we start with a simple model based on the feature in the train and test data."
   ]
  },
  {
   "cell_type": "markdown",
   "id": "57f0151c",
   "metadata": {
    "papermill": {
     "duration": 0.04127,
     "end_time": "2021-10-31T12:46:47.227605",
     "exception": false,
     "start_time": "2021-10-31T12:46:47.186335",
     "status": "completed"
    },
    "tags": []
   },
   "source": [
    "XGB Regression:"
   ]
  },
  {
   "cell_type": "code",
   "execution_count": 16,
   "id": "899eab18",
   "metadata": {
    "papermill": {
     "duration": 275.856981,
     "end_time": "2021-10-31T12:51:23.125552",
     "exception": false,
     "start_time": "2021-10-31T12:46:47.268571",
     "status": "completed"
    },
    "tags": []
   },
   "outputs": [
    {
     "name": "stdout",
     "output_type": "stream",
     "text": [
      "* Training model...\n",
      "\tmodel > Metric >XGB_rmse:1.7053408067392832\n",
      "\tmodel > Metric >Linear_rmse:3.6693205218294525\n"
     ]
    }
   ],
   "source": [
    "@model(\"model\")\n",
    "def train():\n",
    "    train_data = build_test_features()\n",
    "    test_data = layer.get_dataset(\"test_features\").to_pandas()\n",
    "    X_train = train_data[features]\n",
    "    y_train = train_data[target]\n",
    "    X_test = test_data[features]\n",
    "    X_train, X_val, y_train, y_val = train_test_split(X_train, y_train, test_size = 0.33, random_state=2021)\n",
    "\n",
    "    # XGB Regression\n",
    "    model = XGBRegressor(objective='reg:squaredlogerror', n_estimators=200)\n",
    "    model.fit(X_train, y_train)\n",
    "    y_val_pred = model.predict(X_val)\n",
    "    y_val_pred = np.where(y_val_pred<0, 0, y_val_pred)\n",
    "    layer.log_metric('XGB_rmse', np.sqrt(mean_squared_log_error(y_val, y_val_pred)))\n",
    "    \n",
    "    # Linear Regression\n",
    "    reg = LinearRegression(normalize=True).fit(X_train, y_train)\n",
    "    y_val_pred = reg.predict(X_val)\n",
    "    y_val_pred = np.where(y_val_pred<0, 0, y_val_pred)\n",
    "    layer.log_metric('Linear_rmse', np.sqrt(mean_squared_log_error(y_val, y_val_pred)))\n",
    "\n",
    "# layer.run(train)\n",
    "train()"
   ]
  },
  {
   "cell_type": "code",
   "execution_count": null,
   "id": "052194da-c1c2-4888-9cb6-fb63c5220166",
   "metadata": {},
   "outputs": [],
   "source": []
  }
 ],
 "metadata": {
  "kernelspec": {
   "display_name": "Python 3 (ipykernel)",
   "language": "python",
   "name": "python3"
  },
  "language_info": {
   "codemirror_mode": {
    "name": "ipython",
    "version": 3
   },
   "file_extension": ".py",
   "mimetype": "text/x-python",
   "name": "python",
   "nbconvert_exporter": "python",
   "pygments_lexer": "ipython3",
   "version": "3.8.5"
  },
  "papermill": {
   "default_parameters": {},
   "duration": 374.468,
   "end_time": "2021-10-31T12:51:26.611871",
   "environment_variables": {},
   "exception": null,
   "input_path": "__notebook__.ipynb",
   "output_path": "__notebook__.ipynb",
   "parameters": {},
   "start_time": "2021-10-31T12:45:12.143871",
   "version": "2.3.3"
  }
 },
 "nbformat": 4,
 "nbformat_minor": 5
}
