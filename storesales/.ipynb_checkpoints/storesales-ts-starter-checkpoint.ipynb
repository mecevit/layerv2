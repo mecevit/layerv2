{
 "cells": [
  {
   "cell_type": "markdown",
   "id": "02ba3b7c",
   "metadata": {
    "papermill": {
     "duration": 0.036792,
     "end_time": "2021-10-31T12:45:25.806550",
     "exception": false,
     "start_time": "2021-10-31T12:45:25.769758",
     "status": "completed"
    },
    "tags": []
   },
   "source": [
    "# Intro\n",
    "Welcome to the [Store Sales - Time Series Forecasting](https://www.kaggle.com/c/store-sales-time-series-forecasting/data) competition.\n",
    "![](https://storage.googleapis.com/kaggle-competitions/kaggle/29781/logos/header.png)\n",
    "\n",
    "In this competition, we have to predict sales for the thousands of product families sold at Favorita stores located in [Ecuador](https://en.wikipedia.org/wiki/Ecuador).\n",
    "\n",
    "<span style=\"color: royalblue;\">Please vote the notebook up if it helps you. Feel free to leave a comment above the notebook. Thank you. </span>"
   ]
  },
  {
   "cell_type": "markdown",
   "id": "1a09d50d",
   "metadata": {
    "papermill": {
     "duration": 0.03566,
     "end_time": "2021-10-31T12:45:25.878805",
     "exception": false,
     "start_time": "2021-10-31T12:45:25.843145",
     "status": "completed"
    },
    "tags": []
   },
   "source": [
    "# Libraries"
   ]
  },
  {
   "cell_type": "code",
   "execution_count": 1,
   "id": "708f4d14",
   "metadata": {
    "execution": {
     "iopub.execute_input": "2021-10-31T12:45:25.967663Z",
     "iopub.status.busy": "2021-10-31T12:45:25.955848Z",
     "iopub.status.idle": "2021-10-31T12:45:27.675636Z",
     "shell.execute_reply": "2021-10-31T12:45:27.674504Z",
     "shell.execute_reply.started": "2021-10-07T09:06:04.592151Z"
    },
    "papermill": {
     "duration": 1.760208,
     "end_time": "2021-10-31T12:45:27.675911",
     "exception": false,
     "start_time": "2021-10-31T12:45:25.915703",
     "status": "completed"
    },
    "tags": []
   },
   "outputs": [],
   "source": [
    "import os\n",
    "import pandas as pd\n",
    "import numpy as np\n",
    "import matplotlib.pyplot as plt\n",
    "\n",
    "from sklearn import preprocessing\n",
    "from xgboost import XGBRegressor\n",
    "from sklearn.linear_model import LinearRegression\n",
    "from sklearn.metrics import mean_squared_log_error\n",
    "from sklearn.model_selection import train_test_split\n",
    "\n",
    "import warnings\n",
    "warnings.filterwarnings(\"ignore\")"
   ]
  },
  {
   "cell_type": "markdown",
   "id": "cd8002d9",
   "metadata": {
    "papermill": {
     "duration": 0.034329,
     "end_time": "2021-10-31T12:45:27.746433",
     "exception": false,
     "start_time": "2021-10-31T12:45:27.712104",
     "status": "completed"
    },
    "tags": []
   },
   "source": [
    "# Path"
   ]
  },
  {
   "cell_type": "code",
   "execution_count": 2,
   "id": "c3ad7bf7",
   "metadata": {
    "execution": {
     "iopub.execute_input": "2021-10-31T12:45:27.825852Z",
     "iopub.status.busy": "2021-10-31T12:45:27.824498Z",
     "iopub.status.idle": "2021-10-31T12:45:27.834429Z",
     "shell.execute_reply": "2021-10-31T12:45:27.835099Z",
     "shell.execute_reply.started": "2021-10-07T09:06:04.598967Z"
    },
    "papermill": {
     "duration": 0.052432,
     "end_time": "2021-10-31T12:45:27.835322",
     "exception": false,
     "start_time": "2021-10-31T12:45:27.782890",
     "status": "completed"
    },
    "tags": []
   },
   "outputs": [
    {
     "data": {
      "text/plain": [
       "['oil.csv',\n",
       " 'sample_submission.csv',\n",
       " 'holidays_events.csv',\n",
       " 'stores.csv',\n",
       " 'train.csv',\n",
       " 'test.csv',\n",
       " 'transactions.csv']"
      ]
     },
     "execution_count": 2,
     "metadata": {},
     "output_type": "execute_result"
    }
   ],
   "source": [
    "path = '/kaggle/input/store-sales-time-series-forecasting/'\n",
    "os.listdir(path)"
   ]
  },
  {
   "cell_type": "markdown",
   "id": "bc201675",
   "metadata": {
    "papermill": {
     "duration": 0.03571,
     "end_time": "2021-10-31T12:45:27.906441",
     "exception": false,
     "start_time": "2021-10-31T12:45:27.870731",
     "status": "completed"
    },
    "tags": []
   },
   "source": [
    "# Load Data"
   ]
  },
  {
   "cell_type": "code",
   "execution_count": 3,
   "id": "39682650",
   "metadata": {
    "execution": {
     "iopub.execute_input": "2021-10-31T12:45:27.983709Z",
     "iopub.status.busy": "2021-10-31T12:45:27.982081Z",
     "iopub.status.idle": "2021-10-31T12:45:31.994032Z",
     "shell.execute_reply": "2021-10-31T12:45:31.992500Z",
     "shell.execute_reply.started": "2021-10-07T09:06:04.618392Z"
    },
    "papermill": {
     "duration": 4.052512,
     "end_time": "2021-10-31T12:45:31.994286",
     "exception": false,
     "start_time": "2021-10-31T12:45:27.941774",
     "status": "completed"
    },
    "tags": []
   },
   "outputs": [],
   "source": [
    "data_oil = pd.read_csv(path+'oil.csv')\n",
    "train_data = pd.read_csv(path+'train.csv', index_col=0)\n",
    "test_data = pd.read_csv(path+'test.csv', index_col=0)\n",
    "samp_subm = pd.read_csv(path+'sample_submission.csv')\n",
    "data_holi = pd.read_csv(path+'holidays_events.csv')\n",
    "data_store =  pd.read_csv(path+'stores.csv')\n",
    "data_trans = pd.read_csv(path+'transactions.csv')"
   ]
  },
  {
   "cell_type": "markdown",
   "id": "c62b238a",
   "metadata": {
    "papermill": {
     "duration": 0.038139,
     "end_time": "2021-10-31T12:45:32.072754",
     "exception": false,
     "start_time": "2021-10-31T12:45:32.034615",
     "status": "completed"
    },
    "tags": []
   },
   "source": [
    "# Overview"
   ]
  },
  {
   "cell_type": "code",
   "execution_count": 4,
   "id": "41458dbb",
   "metadata": {
    "execution": {
     "iopub.execute_input": "2021-10-31T12:45:32.156508Z",
     "iopub.status.busy": "2021-10-31T12:45:32.155299Z",
     "iopub.status.idle": "2021-10-31T12:45:32.161177Z",
     "shell.execute_reply": "2021-10-31T12:45:32.160168Z",
     "shell.execute_reply.started": "2021-10-07T09:06:06.260931Z"
    },
    "papermill": {
     "duration": 0.05045,
     "end_time": "2021-10-31T12:45:32.161393",
     "exception": false,
     "start_time": "2021-10-31T12:45:32.110943",
     "status": "completed"
    },
    "tags": []
   },
   "outputs": [
    {
     "name": "stdout",
     "output_type": "stream",
     "text": [
      "Number of train samples:  3000888\n",
      "Number of test samples:  28512\n",
      "Number of features:  5\n"
     ]
    }
   ],
   "source": [
    "print('Number of train samples: ', len(train_data.index))\n",
    "print('Number of test samples: ', len(test_data.index))\n",
    "print('Number of features: ', len(train_data.columns))"
   ]
  },
  {
   "cell_type": "code",
   "execution_count": 5,
   "id": "7e4105cf",
   "metadata": {
    "execution": {
     "iopub.execute_input": "2021-10-31T12:45:32.245306Z",
     "iopub.status.busy": "2021-10-31T12:45:32.244151Z",
     "iopub.status.idle": "2021-10-31T12:45:32.267799Z",
     "shell.execute_reply": "2021-10-31T12:45:32.268519Z",
     "shell.execute_reply.started": "2021-10-07T09:06:06.268987Z"
    },
    "papermill": {
     "duration": 0.06933,
     "end_time": "2021-10-31T12:45:32.268843",
     "exception": false,
     "start_time": "2021-10-31T12:45:32.199513",
     "status": "completed"
    },
    "tags": []
   },
   "outputs": [
    {
     "data": {
      "text/html": [
       "<div>\n",
       "<style scoped>\n",
       "    .dataframe tbody tr th:only-of-type {\n",
       "        vertical-align: middle;\n",
       "    }\n",
       "\n",
       "    .dataframe tbody tr th {\n",
       "        vertical-align: top;\n",
       "    }\n",
       "\n",
       "    .dataframe thead th {\n",
       "        text-align: right;\n",
       "    }\n",
       "</style>\n",
       "<table border=\"1\" class=\"dataframe\">\n",
       "  <thead>\n",
       "    <tr style=\"text-align: right;\">\n",
       "      <th></th>\n",
       "      <th>date</th>\n",
       "      <th>store_nbr</th>\n",
       "      <th>family</th>\n",
       "      <th>sales</th>\n",
       "      <th>onpromotion</th>\n",
       "    </tr>\n",
       "    <tr>\n",
       "      <th>id</th>\n",
       "      <th></th>\n",
       "      <th></th>\n",
       "      <th></th>\n",
       "      <th></th>\n",
       "      <th></th>\n",
       "    </tr>\n",
       "  </thead>\n",
       "  <tbody>\n",
       "    <tr>\n",
       "      <th>0</th>\n",
       "      <td>2013-01-01</td>\n",
       "      <td>1</td>\n",
       "      <td>AUTOMOTIVE</td>\n",
       "      <td>0.0</td>\n",
       "      <td>0.0</td>\n",
       "    </tr>\n",
       "    <tr>\n",
       "      <th>1</th>\n",
       "      <td>2013-01-01</td>\n",
       "      <td>1</td>\n",
       "      <td>BABY CARE</td>\n",
       "      <td>0.0</td>\n",
       "      <td>0.0</td>\n",
       "    </tr>\n",
       "    <tr>\n",
       "      <th>2</th>\n",
       "      <td>2013-01-01</td>\n",
       "      <td>1</td>\n",
       "      <td>BEAUTY</td>\n",
       "      <td>0.0</td>\n",
       "      <td>0.0</td>\n",
       "    </tr>\n",
       "    <tr>\n",
       "      <th>3</th>\n",
       "      <td>2013-01-01</td>\n",
       "      <td>1</td>\n",
       "      <td>BEVERAGES</td>\n",
       "      <td>0.0</td>\n",
       "      <td>0.0</td>\n",
       "    </tr>\n",
       "    <tr>\n",
       "      <th>4</th>\n",
       "      <td>2013-01-01</td>\n",
       "      <td>1</td>\n",
       "      <td>BOOKS</td>\n",
       "      <td>0.0</td>\n",
       "      <td>0.0</td>\n",
       "    </tr>\n",
       "  </tbody>\n",
       "</table>\n",
       "</div>"
      ],
      "text/plain": [
       "          date  store_nbr      family  sales  onpromotion\n",
       "id                                                       \n",
       "0   2013-01-01          1  AUTOMOTIVE    0.0          0.0\n",
       "1   2013-01-01          1   BABY CARE    0.0          0.0\n",
       "2   2013-01-01          1      BEAUTY    0.0          0.0\n",
       "3   2013-01-01          1   BEVERAGES    0.0          0.0\n",
       "4   2013-01-01          1       BOOKS    0.0          0.0"
      ]
     },
     "execution_count": 5,
     "metadata": {},
     "output_type": "execute_result"
    }
   ],
   "source": [
    "train_data.head()"
   ]
  },
  {
   "cell_type": "code",
   "execution_count": 6,
   "id": "0f04f9f1",
   "metadata": {
    "execution": {
     "iopub.execute_input": "2021-10-31T12:45:32.369187Z",
     "iopub.status.busy": "2021-10-31T12:45:32.367739Z",
     "iopub.status.idle": "2021-10-31T12:45:32.375588Z",
     "shell.execute_reply": "2021-10-31T12:45:32.376457Z",
     "shell.execute_reply.started": "2021-10-07T09:06:06.292031Z"
    },
    "papermill": {
     "duration": 0.067718,
     "end_time": "2021-10-31T12:45:32.376720",
     "exception": false,
     "start_time": "2021-10-31T12:45:32.309002",
     "status": "completed"
    },
    "tags": []
   },
   "outputs": [
    {
     "data": {
      "text/html": [
       "<div>\n",
       "<style scoped>\n",
       "    .dataframe tbody tr th:only-of-type {\n",
       "        vertical-align: middle;\n",
       "    }\n",
       "\n",
       "    .dataframe tbody tr th {\n",
       "        vertical-align: top;\n",
       "    }\n",
       "\n",
       "    .dataframe thead th {\n",
       "        text-align: right;\n",
       "    }\n",
       "</style>\n",
       "<table border=\"1\" class=\"dataframe\">\n",
       "  <thead>\n",
       "    <tr style=\"text-align: right;\">\n",
       "      <th></th>\n",
       "      <th>date</th>\n",
       "      <th>store_nbr</th>\n",
       "      <th>family</th>\n",
       "      <th>onpromotion</th>\n",
       "    </tr>\n",
       "    <tr>\n",
       "      <th>id</th>\n",
       "      <th></th>\n",
       "      <th></th>\n",
       "      <th></th>\n",
       "      <th></th>\n",
       "    </tr>\n",
       "  </thead>\n",
       "  <tbody>\n",
       "    <tr>\n",
       "      <th>3000888</th>\n",
       "      <td>2017-08-16</td>\n",
       "      <td>1</td>\n",
       "      <td>AUTOMOTIVE</td>\n",
       "      <td>20.0</td>\n",
       "    </tr>\n",
       "    <tr>\n",
       "      <th>3000889</th>\n",
       "      <td>2017-08-16</td>\n",
       "      <td>1</td>\n",
       "      <td>BABY CARE</td>\n",
       "      <td>1.0</td>\n",
       "    </tr>\n",
       "    <tr>\n",
       "      <th>3000890</th>\n",
       "      <td>2017-08-16</td>\n",
       "      <td>1</td>\n",
       "      <td>BEAUTY</td>\n",
       "      <td>8.0</td>\n",
       "    </tr>\n",
       "    <tr>\n",
       "      <th>3000891</th>\n",
       "      <td>2017-08-16</td>\n",
       "      <td>1</td>\n",
       "      <td>BEVERAGES</td>\n",
       "      <td>560.0</td>\n",
       "    </tr>\n",
       "    <tr>\n",
       "      <th>3000892</th>\n",
       "      <td>2017-08-16</td>\n",
       "      <td>1</td>\n",
       "      <td>BOOKS</td>\n",
       "      <td>1.0</td>\n",
       "    </tr>\n",
       "  </tbody>\n",
       "</table>\n",
       "</div>"
      ],
      "text/plain": [
       "               date  store_nbr      family  onpromotion\n",
       "id                                                     \n",
       "3000888  2017-08-16          1  AUTOMOTIVE         20.0\n",
       "3000889  2017-08-16          1   BABY CARE          1.0\n",
       "3000890  2017-08-16          1      BEAUTY          8.0\n",
       "3000891  2017-08-16          1   BEVERAGES        560.0\n",
       "3000892  2017-08-16          1       BOOKS          1.0"
      ]
     },
     "execution_count": 6,
     "metadata": {},
     "output_type": "execute_result"
    }
   ],
   "source": [
    "test_data.head()"
   ]
  },
  {
   "cell_type": "markdown",
   "id": "6c357f34",
   "metadata": {
    "papermill": {
     "duration": 0.037912,
     "end_time": "2021-10-31T12:45:32.455394",
     "exception": false,
     "start_time": "2021-10-31T12:45:32.417482",
     "status": "completed"
    },
    "tags": []
   },
   "source": [
    "# Exploratory Data Analysis"
   ]
  },
  {
   "cell_type": "markdown",
   "id": "2224739f",
   "metadata": {
    "papermill": {
     "duration": 0.038745,
     "end_time": "2021-10-31T12:45:32.534364",
     "exception": false,
     "start_time": "2021-10-31T12:45:32.495619",
     "status": "completed"
    },
    "tags": []
   },
   "source": [
    "## Feature family\n",
    "The feature family has 33 categorical values which we have to encode later. The values are evenly distributed."
   ]
  },
  {
   "cell_type": "code",
   "execution_count": 7,
   "id": "205a9318",
   "metadata": {
    "execution": {
     "iopub.execute_input": "2021-10-31T12:45:33.182209Z",
     "iopub.status.busy": "2021-10-31T12:45:32.617599Z",
     "iopub.status.idle": "2021-10-31T12:45:33.188707Z",
     "shell.execute_reply": "2021-10-31T12:45:33.187591Z",
     "shell.execute_reply.started": "2021-10-07T09:06:06.305459Z"
    },
    "papermill": {
     "duration": 0.616015,
     "end_time": "2021-10-31T12:45:33.188942",
     "exception": false,
     "start_time": "2021-10-31T12:45:32.572927",
     "status": "completed"
    },
    "tags": []
   },
   "outputs": [
    {
     "data": {
      "text/plain": [
       "AUTOMOTIVE                    90936\n",
       "HOME APPLIANCES               90936\n",
       "SCHOOL AND OFFICE SUPPLIES    90936\n",
       "Name: family, dtype: int64"
      ]
     },
     "execution_count": 7,
     "metadata": {},
     "output_type": "execute_result"
    }
   ],
   "source": [
    "train_data['family'].value_counts()[0:3]"
   ]
  },
  {
   "cell_type": "markdown",
   "id": "83946d70",
   "metadata": {
    "papermill": {
     "duration": 0.037412,
     "end_time": "2021-10-31T12:45:33.269231",
     "exception": false,
     "start_time": "2021-10-31T12:45:33.231819",
     "status": "completed"
    },
    "tags": []
   },
   "source": [
    "## Oil Data\n",
    "Daily oil price. Includes values during both the train and test data timeframes. (Ecuador is an oil-dependent country and it's economical health is highly vulnerable to shocks in oil prices.)"
   ]
  },
  {
   "cell_type": "code",
   "execution_count": 8,
   "id": "2b3b064a",
   "metadata": {
    "execution": {
     "iopub.execute_input": "2021-10-31T12:45:33.357861Z",
     "iopub.status.busy": "2021-10-31T12:45:33.356691Z",
     "iopub.status.idle": "2021-10-31T12:45:33.363092Z",
     "shell.execute_reply": "2021-10-31T12:45:33.361523Z",
     "shell.execute_reply.started": "2021-10-07T09:06:06.519485Z"
    },
    "papermill": {
     "duration": 0.055422,
     "end_time": "2021-10-31T12:45:33.363352",
     "exception": false,
     "start_time": "2021-10-31T12:45:33.307930",
     "status": "completed"
    },
    "tags": []
   },
   "outputs": [
    {
     "data": {
      "text/html": [
       "<div>\n",
       "<style scoped>\n",
       "    .dataframe tbody tr th:only-of-type {\n",
       "        vertical-align: middle;\n",
       "    }\n",
       "\n",
       "    .dataframe tbody tr th {\n",
       "        vertical-align: top;\n",
       "    }\n",
       "\n",
       "    .dataframe thead th {\n",
       "        text-align: right;\n",
       "    }\n",
       "</style>\n",
       "<table border=\"1\" class=\"dataframe\">\n",
       "  <thead>\n",
       "    <tr style=\"text-align: right;\">\n",
       "      <th></th>\n",
       "      <th>date</th>\n",
       "      <th>dcoilwtico</th>\n",
       "    </tr>\n",
       "  </thead>\n",
       "  <tbody>\n",
       "    <tr>\n",
       "      <th>0</th>\n",
       "      <td>2013-01-01</td>\n",
       "      <td>NaN</td>\n",
       "    </tr>\n",
       "    <tr>\n",
       "      <th>1</th>\n",
       "      <td>2013-01-02</td>\n",
       "      <td>93.14</td>\n",
       "    </tr>\n",
       "    <tr>\n",
       "      <th>2</th>\n",
       "      <td>2013-01-03</td>\n",
       "      <td>92.97</td>\n",
       "    </tr>\n",
       "    <tr>\n",
       "      <th>3</th>\n",
       "      <td>2013-01-04</td>\n",
       "      <td>93.12</td>\n",
       "    </tr>\n",
       "    <tr>\n",
       "      <th>4</th>\n",
       "      <td>2013-01-07</td>\n",
       "      <td>93.20</td>\n",
       "    </tr>\n",
       "  </tbody>\n",
       "</table>\n",
       "</div>"
      ],
      "text/plain": [
       "         date  dcoilwtico\n",
       "0  2013-01-01         NaN\n",
       "1  2013-01-02       93.14\n",
       "2  2013-01-03       92.97\n",
       "3  2013-01-04       93.12\n",
       "4  2013-01-07       93.20"
      ]
     },
     "execution_count": 8,
     "metadata": {},
     "output_type": "execute_result"
    }
   ],
   "source": [
    "data_oil.head()"
   ]
  },
  {
   "cell_type": "markdown",
   "id": "55bca7a4",
   "metadata": {
    "papermill": {
     "duration": 0.04231,
     "end_time": "2021-10-31T12:45:33.448879",
     "exception": false,
     "start_time": "2021-10-31T12:45:33.406569",
     "status": "completed"
    },
    "tags": []
   },
   "source": [
    "## Store Data\n",
    "* Store metadata, including city, state, type, and cluster.\n",
    "* cluster is a grouping of similar stores."
   ]
  },
  {
   "cell_type": "code",
   "execution_count": 9,
   "id": "b0dbfcfb",
   "metadata": {
    "execution": {
     "iopub.execute_input": "2021-10-31T12:45:33.549272Z",
     "iopub.status.busy": "2021-10-31T12:45:33.548209Z",
     "iopub.status.idle": "2021-10-31T12:45:33.552446Z",
     "shell.execute_reply": "2021-10-31T12:45:33.553337Z",
     "shell.execute_reply.started": "2021-10-07T09:06:06.533432Z"
    },
    "papermill": {
     "duration": 0.061643,
     "end_time": "2021-10-31T12:45:33.553705",
     "exception": false,
     "start_time": "2021-10-31T12:45:33.492062",
     "status": "completed"
    },
    "tags": []
   },
   "outputs": [
    {
     "data": {
      "text/html": [
       "<div>\n",
       "<style scoped>\n",
       "    .dataframe tbody tr th:only-of-type {\n",
       "        vertical-align: middle;\n",
       "    }\n",
       "\n",
       "    .dataframe tbody tr th {\n",
       "        vertical-align: top;\n",
       "    }\n",
       "\n",
       "    .dataframe thead th {\n",
       "        text-align: right;\n",
       "    }\n",
       "</style>\n",
       "<table border=\"1\" class=\"dataframe\">\n",
       "  <thead>\n",
       "    <tr style=\"text-align: right;\">\n",
       "      <th></th>\n",
       "      <th>store_nbr</th>\n",
       "      <th>city</th>\n",
       "      <th>state</th>\n",
       "      <th>type</th>\n",
       "      <th>cluster</th>\n",
       "    </tr>\n",
       "  </thead>\n",
       "  <tbody>\n",
       "    <tr>\n",
       "      <th>0</th>\n",
       "      <td>1</td>\n",
       "      <td>Quito</td>\n",
       "      <td>Pichincha</td>\n",
       "      <td>D</td>\n",
       "      <td>13</td>\n",
       "    </tr>\n",
       "    <tr>\n",
       "      <th>1</th>\n",
       "      <td>2</td>\n",
       "      <td>Quito</td>\n",
       "      <td>Pichincha</td>\n",
       "      <td>D</td>\n",
       "      <td>13</td>\n",
       "    </tr>\n",
       "    <tr>\n",
       "      <th>2</th>\n",
       "      <td>3</td>\n",
       "      <td>Quito</td>\n",
       "      <td>Pichincha</td>\n",
       "      <td>D</td>\n",
       "      <td>8</td>\n",
       "    </tr>\n",
       "    <tr>\n",
       "      <th>3</th>\n",
       "      <td>4</td>\n",
       "      <td>Quito</td>\n",
       "      <td>Pichincha</td>\n",
       "      <td>D</td>\n",
       "      <td>9</td>\n",
       "    </tr>\n",
       "    <tr>\n",
       "      <th>4</th>\n",
       "      <td>5</td>\n",
       "      <td>Santo Domingo</td>\n",
       "      <td>Santo Domingo de los Tsachilas</td>\n",
       "      <td>D</td>\n",
       "      <td>4</td>\n",
       "    </tr>\n",
       "  </tbody>\n",
       "</table>\n",
       "</div>"
      ],
      "text/plain": [
       "   store_nbr           city                           state type  cluster\n",
       "0          1          Quito                       Pichincha    D       13\n",
       "1          2          Quito                       Pichincha    D       13\n",
       "2          3          Quito                       Pichincha    D        8\n",
       "3          4          Quito                       Pichincha    D        9\n",
       "4          5  Santo Domingo  Santo Domingo de los Tsachilas    D        4"
      ]
     },
     "execution_count": 9,
     "metadata": {},
     "output_type": "execute_result"
    }
   ],
   "source": [
    "data_store.head()"
   ]
  },
  {
   "cell_type": "code",
   "execution_count": 10,
   "id": "9afb0ff4",
   "metadata": {
    "execution": {
     "iopub.execute_input": "2021-10-31T12:45:33.642277Z",
     "iopub.status.busy": "2021-10-31T12:45:33.641450Z",
     "iopub.status.idle": "2021-10-31T12:45:33.646675Z",
     "shell.execute_reply": "2021-10-31T12:45:33.645888Z",
     "shell.execute_reply.started": "2021-10-07T09:06:06.549533Z"
    },
    "papermill": {
     "duration": 0.054479,
     "end_time": "2021-10-31T12:45:33.646893",
     "exception": false,
     "start_time": "2021-10-31T12:45:33.592414",
     "status": "completed"
    },
    "tags": []
   },
   "outputs": [
    {
     "data": {
      "text/plain": [
       "Quito        18\n",
       "Guayaquil     8\n",
       "Cuenca        3\n",
       "Name: city, dtype: int64"
      ]
     },
     "execution_count": 10,
     "metadata": {},
     "output_type": "execute_result"
    }
   ],
   "source": [
    "data_store['city'].value_counts()[0:3]"
   ]
  },
  {
   "cell_type": "markdown",
   "id": "c880a1f8",
   "metadata": {
    "papermill": {
     "duration": 0.041303,
     "end_time": "2021-10-31T12:45:33.730771",
     "exception": false,
     "start_time": "2021-10-31T12:45:33.689468",
     "status": "completed"
    },
    "tags": []
   },
   "source": [
    "## Transaction Data"
   ]
  },
  {
   "cell_type": "code",
   "execution_count": 11,
   "id": "1259297d",
   "metadata": {
    "execution": {
     "iopub.execute_input": "2021-10-31T12:45:33.819668Z",
     "iopub.status.busy": "2021-10-31T12:45:33.818419Z",
     "iopub.status.idle": "2021-10-31T12:45:33.830850Z",
     "shell.execute_reply": "2021-10-31T12:45:33.829761Z",
     "shell.execute_reply.started": "2021-10-07T09:06:06.562617Z"
    },
    "papermill": {
     "duration": 0.060119,
     "end_time": "2021-10-31T12:45:33.831274",
     "exception": false,
     "start_time": "2021-10-31T12:45:33.771155",
     "status": "completed"
    },
    "tags": []
   },
   "outputs": [
    {
     "data": {
      "text/html": [
       "<div>\n",
       "<style scoped>\n",
       "    .dataframe tbody tr th:only-of-type {\n",
       "        vertical-align: middle;\n",
       "    }\n",
       "\n",
       "    .dataframe tbody tr th {\n",
       "        vertical-align: top;\n",
       "    }\n",
       "\n",
       "    .dataframe thead th {\n",
       "        text-align: right;\n",
       "    }\n",
       "</style>\n",
       "<table border=\"1\" class=\"dataframe\">\n",
       "  <thead>\n",
       "    <tr style=\"text-align: right;\">\n",
       "      <th></th>\n",
       "      <th>date</th>\n",
       "      <th>store_nbr</th>\n",
       "      <th>transactions</th>\n",
       "    </tr>\n",
       "  </thead>\n",
       "  <tbody>\n",
       "    <tr>\n",
       "      <th>0</th>\n",
       "      <td>2013-01-01</td>\n",
       "      <td>25</td>\n",
       "      <td>770</td>\n",
       "    </tr>\n",
       "    <tr>\n",
       "      <th>1</th>\n",
       "      <td>2013-01-02</td>\n",
       "      <td>1</td>\n",
       "      <td>2111</td>\n",
       "    </tr>\n",
       "    <tr>\n",
       "      <th>2</th>\n",
       "      <td>2013-01-02</td>\n",
       "      <td>2</td>\n",
       "      <td>2358</td>\n",
       "    </tr>\n",
       "    <tr>\n",
       "      <th>3</th>\n",
       "      <td>2013-01-02</td>\n",
       "      <td>3</td>\n",
       "      <td>3487</td>\n",
       "    </tr>\n",
       "    <tr>\n",
       "      <th>4</th>\n",
       "      <td>2013-01-02</td>\n",
       "      <td>4</td>\n",
       "      <td>1922</td>\n",
       "    </tr>\n",
       "  </tbody>\n",
       "</table>\n",
       "</div>"
      ],
      "text/plain": [
       "         date  store_nbr  transactions\n",
       "0  2013-01-01         25           770\n",
       "1  2013-01-02          1          2111\n",
       "2  2013-01-02          2          2358\n",
       "3  2013-01-02          3          3487\n",
       "4  2013-01-02          4          1922"
      ]
     },
     "execution_count": 11,
     "metadata": {},
     "output_type": "execute_result"
    }
   ],
   "source": [
    "data_trans.head()"
   ]
  },
  {
   "cell_type": "markdown",
   "id": "47f179c3",
   "metadata": {
    "papermill": {
     "duration": 0.041697,
     "end_time": "2021-10-31T12:45:33.913064",
     "exception": false,
     "start_time": "2021-10-31T12:45:33.871367",
     "status": "completed"
    },
    "tags": []
   },
   "source": [
    "## Holiday Data\n",
    "* Holidays and Events, with metadata\n",
    "* NOTE: Pay special attention to the transferred column. A holiday that is transferred officially falls on that calendar day, but was moved to another date by the government. A transferred day is more like a normal day than a holiday. To find the day that it was actually celebrated, look for the corresponding row where type is Transfer. For example, the holiday Independencia de Guayaquil was transferred from 2012-10-09 to 2012-10-12, which means it was celebrated on 2012-10-12. Days that are type Bridge are extra days that are added to a holiday (e.g., to extend the break across a long weekend). These are frequently made up by the type Work Day which is a day not normally scheduled for work (e.g., Saturday) that is meant to payback the Bridge.\n",
    "* Additional holidays are days added a regular calendar holiday, for example, as typically happens around Christmas (making Christmas Eve a holiday)."
   ]
  },
  {
   "cell_type": "code",
   "execution_count": 12,
   "id": "432f912d",
   "metadata": {
    "execution": {
     "iopub.execute_input": "2021-10-31T12:45:34.000877Z",
     "iopub.status.busy": "2021-10-31T12:45:33.999503Z",
     "iopub.status.idle": "2021-10-31T12:45:34.014218Z",
     "shell.execute_reply": "2021-10-31T12:45:34.014869Z",
     "shell.execute_reply.started": "2021-10-07T09:06:06.57776Z"
    },
    "papermill": {
     "duration": 0.061648,
     "end_time": "2021-10-31T12:45:34.015110",
     "exception": false,
     "start_time": "2021-10-31T12:45:33.953462",
     "status": "completed"
    },
    "tags": []
   },
   "outputs": [
    {
     "data": {
      "text/html": [
       "<div>\n",
       "<style scoped>\n",
       "    .dataframe tbody tr th:only-of-type {\n",
       "        vertical-align: middle;\n",
       "    }\n",
       "\n",
       "    .dataframe tbody tr th {\n",
       "        vertical-align: top;\n",
       "    }\n",
       "\n",
       "    .dataframe thead th {\n",
       "        text-align: right;\n",
       "    }\n",
       "</style>\n",
       "<table border=\"1\" class=\"dataframe\">\n",
       "  <thead>\n",
       "    <tr style=\"text-align: right;\">\n",
       "      <th></th>\n",
       "      <th>date</th>\n",
       "      <th>type</th>\n",
       "      <th>locale</th>\n",
       "      <th>locale_name</th>\n",
       "      <th>description</th>\n",
       "      <th>transferred</th>\n",
       "    </tr>\n",
       "  </thead>\n",
       "  <tbody>\n",
       "    <tr>\n",
       "      <th>0</th>\n",
       "      <td>2012-03-02</td>\n",
       "      <td>Holiday</td>\n",
       "      <td>Local</td>\n",
       "      <td>Manta</td>\n",
       "      <td>Fundacion de Manta</td>\n",
       "      <td>False</td>\n",
       "    </tr>\n",
       "    <tr>\n",
       "      <th>1</th>\n",
       "      <td>2012-04-01</td>\n",
       "      <td>Holiday</td>\n",
       "      <td>Regional</td>\n",
       "      <td>Cotopaxi</td>\n",
       "      <td>Provincializacion de Cotopaxi</td>\n",
       "      <td>False</td>\n",
       "    </tr>\n",
       "    <tr>\n",
       "      <th>2</th>\n",
       "      <td>2012-04-12</td>\n",
       "      <td>Holiday</td>\n",
       "      <td>Local</td>\n",
       "      <td>Cuenca</td>\n",
       "      <td>Fundacion de Cuenca</td>\n",
       "      <td>False</td>\n",
       "    </tr>\n",
       "    <tr>\n",
       "      <th>3</th>\n",
       "      <td>2012-04-14</td>\n",
       "      <td>Holiday</td>\n",
       "      <td>Local</td>\n",
       "      <td>Libertad</td>\n",
       "      <td>Cantonizacion de Libertad</td>\n",
       "      <td>False</td>\n",
       "    </tr>\n",
       "    <tr>\n",
       "      <th>4</th>\n",
       "      <td>2012-04-21</td>\n",
       "      <td>Holiday</td>\n",
       "      <td>Local</td>\n",
       "      <td>Riobamba</td>\n",
       "      <td>Cantonizacion de Riobamba</td>\n",
       "      <td>False</td>\n",
       "    </tr>\n",
       "  </tbody>\n",
       "</table>\n",
       "</div>"
      ],
      "text/plain": [
       "         date     type    locale locale_name                    description  \\\n",
       "0  2012-03-02  Holiday     Local       Manta             Fundacion de Manta   \n",
       "1  2012-04-01  Holiday  Regional    Cotopaxi  Provincializacion de Cotopaxi   \n",
       "2  2012-04-12  Holiday     Local      Cuenca            Fundacion de Cuenca   \n",
       "3  2012-04-14  Holiday     Local    Libertad      Cantonizacion de Libertad   \n",
       "4  2012-04-21  Holiday     Local    Riobamba      Cantonizacion de Riobamba   \n",
       "\n",
       "   transferred  \n",
       "0        False  \n",
       "1        False  \n",
       "2        False  \n",
       "3        False  \n",
       "4        False  "
      ]
     },
     "execution_count": 12,
     "metadata": {},
     "output_type": "execute_result"
    }
   ],
   "source": [
    "data_holi.head()"
   ]
  },
  {
   "cell_type": "markdown",
   "id": "a419ea03",
   "metadata": {
    "papermill": {
     "duration": 0.039154,
     "end_time": "2021-10-31T12:45:34.095846",
     "exception": false,
     "start_time": "2021-10-31T12:45:34.056692",
     "status": "completed"
    },
    "tags": []
   },
   "source": [
    "# Feature Engineering"
   ]
  },
  {
   "cell_type": "code",
   "execution_count": 13,
   "id": "abeb0748",
   "metadata": {
    "execution": {
     "iopub.execute_input": "2021-10-31T12:45:34.180507Z",
     "iopub.status.busy": "2021-10-31T12:45:34.179180Z",
     "iopub.status.idle": "2021-10-31T12:45:34.185722Z",
     "shell.execute_reply": "2021-10-31T12:45:34.186740Z",
     "shell.execute_reply.started": "2021-10-07T09:06:06.595528Z"
    },
    "papermill": {
     "duration": 0.051562,
     "end_time": "2021-10-31T12:45:34.187016",
     "exception": false,
     "start_time": "2021-10-31T12:45:34.135454",
     "status": "completed"
    },
    "tags": []
   },
   "outputs": [],
   "source": [
    "features = ['store_nbr', 'family', 'onpromotion']\n",
    "target = 'sales'"
   ]
  },
  {
   "cell_type": "markdown",
   "id": "cd5bd062",
   "metadata": {
    "papermill": {
     "duration": 0.040881,
     "end_time": "2021-10-31T12:45:34.269345",
     "exception": false,
     "start_time": "2021-10-31T12:45:34.228464",
     "status": "completed"
    },
    "tags": []
   },
   "source": [
    "## Create Feature Weekday\n",
    "Based on the feature date we can create the features weekday, month or year."
   ]
  },
  {
   "cell_type": "code",
   "execution_count": 14,
   "id": "b46503c3",
   "metadata": {
    "execution": {
     "iopub.execute_input": "2021-10-31T12:45:34.359989Z",
     "iopub.status.busy": "2021-10-31T12:45:34.358656Z",
     "iopub.status.idle": "2021-10-31T12:45:34.361827Z",
     "shell.execute_reply": "2021-10-31T12:45:34.362415Z",
     "shell.execute_reply.started": "2021-10-07T09:06:06.604075Z"
    },
    "papermill": {
     "duration": 0.051829,
     "end_time": "2021-10-31T12:45:34.362660",
     "exception": false,
     "start_time": "2021-10-31T12:45:34.310831",
     "status": "completed"
    },
    "tags": []
   },
   "outputs": [],
   "source": [
    "def extract_weekday(s):\n",
    "    return s.dayofweek\n",
    "\n",
    "def extract_month(s):\n",
    "    return s.month\n",
    "\n",
    "def extract_year(s):\n",
    "    return s.year"
   ]
  },
  {
   "cell_type": "code",
   "execution_count": 15,
   "id": "b6578557",
   "metadata": {
    "execution": {
     "iopub.execute_input": "2021-10-31T12:45:34.526667Z",
     "iopub.status.busy": "2021-10-31T12:45:34.525181Z",
     "iopub.status.idle": "2021-10-31T12:46:44.137151Z",
     "shell.execute_reply": "2021-10-31T12:46:44.137772Z",
     "shell.execute_reply.started": "2021-10-07T09:06:06.614205Z"
    },
    "papermill": {
     "duration": 69.733634,
     "end_time": "2021-10-31T12:46:44.138071",
     "exception": false,
     "start_time": "2021-10-31T12:45:34.404437",
     "status": "completed"
    },
    "tags": []
   },
   "outputs": [],
   "source": [
    "train_data['date'] = pd.to_datetime(train_data['date'])\n",
    "train_data['weekday'] = train_data['date'].apply(extract_weekday)\n",
    "train_data['year'] = train_data['date'].apply(extract_year)\n",
    "train_data['month'] = train_data['date'].apply(extract_month)\n",
    "\n",
    "test_data['date'] = pd.to_datetime(test_data['date'])\n",
    "test_data['weekday'] = test_data['date'].apply(extract_weekday)\n",
    "test_data['year'] = test_data['date'].apply(extract_year)\n",
    "test_data['month'] = test_data['date'].apply(extract_month)"
   ]
  },
  {
   "cell_type": "code",
   "execution_count": 16,
   "id": "d0f3a380",
   "metadata": {
    "execution": {
     "iopub.execute_input": "2021-10-31T12:46:44.224705Z",
     "iopub.status.busy": "2021-10-31T12:46:44.223311Z",
     "iopub.status.idle": "2021-10-31T12:46:44.227791Z",
     "shell.execute_reply": "2021-10-31T12:46:44.228446Z",
     "shell.execute_reply.started": "2021-10-07T09:06:42.280029Z"
    },
    "papermill": {
     "duration": 0.050176,
     "end_time": "2021-10-31T12:46:44.228705",
     "exception": false,
     "start_time": "2021-10-31T12:46:44.178529",
     "status": "completed"
    },
    "tags": []
   },
   "outputs": [],
   "source": [
    "features.append('weekday')\n",
    "features.append('year')\n",
    "features.append('month')"
   ]
  },
  {
   "cell_type": "markdown",
   "id": "bc766f61",
   "metadata": {
    "papermill": {
     "duration": 0.038627,
     "end_time": "2021-10-31T12:46:44.307572",
     "exception": false,
     "start_time": "2021-10-31T12:46:44.268945",
     "status": "completed"
    },
    "tags": []
   },
   "source": [
    "## Encode Categorical Labels"
   ]
  },
  {
   "cell_type": "code",
   "execution_count": 17,
   "id": "a11e013d",
   "metadata": {
    "execution": {
     "iopub.execute_input": "2021-10-31T12:46:44.392155Z",
     "iopub.status.busy": "2021-10-31T12:46:44.390776Z",
     "iopub.status.idle": "2021-10-31T12:46:44.601350Z",
     "shell.execute_reply": "2021-10-31T12:46:44.602113Z",
     "shell.execute_reply.started": "2021-10-07T09:06:42.286027Z"
    },
    "papermill": {
     "duration": 0.254921,
     "end_time": "2021-10-31T12:46:44.602356",
     "exception": false,
     "start_time": "2021-10-31T12:46:44.347435",
     "status": "completed"
    },
    "tags": []
   },
   "outputs": [
    {
     "data": {
      "text/plain": [
       "LabelEncoder()"
      ]
     },
     "execution_count": 17,
     "metadata": {},
     "output_type": "execute_result"
    }
   ],
   "source": [
    "enc = preprocessing.LabelEncoder()\n",
    "enc.fit(train_data['family'])"
   ]
  },
  {
   "cell_type": "code",
   "execution_count": 18,
   "id": "89a17d44",
   "metadata": {
    "execution": {
     "iopub.execute_input": "2021-10-31T12:46:44.691443Z",
     "iopub.status.busy": "2021-10-31T12:46:44.690396Z",
     "iopub.status.idle": "2021-10-31T12:46:45.785180Z",
     "shell.execute_reply": "2021-10-31T12:46:45.784066Z",
     "shell.execute_reply.started": "2021-10-07T09:06:42.402364Z"
    },
    "papermill": {
     "duration": 1.140772,
     "end_time": "2021-10-31T12:46:45.785637",
     "exception": false,
     "start_time": "2021-10-31T12:46:44.644865",
     "status": "completed"
    },
    "tags": []
   },
   "outputs": [],
   "source": [
    "train_data['family'] = enc.transform(train_data['family'])\n",
    "test_data['family'] = enc.transform(test_data['family'])"
   ]
  },
  {
   "cell_type": "markdown",
   "id": "b5e06732",
   "metadata": {
    "papermill": {
     "duration": 0.043899,
     "end_time": "2021-10-31T12:46:45.872277",
     "exception": false,
     "start_time": "2021-10-31T12:46:45.828378",
     "status": "completed"
    },
    "tags": []
   },
   "source": [
    "# Define Train, Val And Test Data"
   ]
  },
  {
   "cell_type": "code",
   "execution_count": 19,
   "id": "e9832cdb",
   "metadata": {
    "execution": {
     "iopub.execute_input": "2021-10-31T12:46:45.963695Z",
     "iopub.status.busy": "2021-10-31T12:46:45.958806Z",
     "iopub.status.idle": "2021-10-31T12:46:46.147764Z",
     "shell.execute_reply": "2021-10-31T12:46:46.147001Z",
     "shell.execute_reply.started": "2021-10-07T09:06:42.868073Z"
    },
    "papermill": {
     "duration": 0.233435,
     "end_time": "2021-10-31T12:46:46.147971",
     "exception": false,
     "start_time": "2021-10-31T12:46:45.914536",
     "status": "completed"
    },
    "tags": []
   },
   "outputs": [],
   "source": [
    "X_train = train_data[features]\n",
    "y_train = train_data[target]\n",
    "X_test = test_data[features]"
   ]
  },
  {
   "cell_type": "code",
   "execution_count": 20,
   "id": "e01f0696",
   "metadata": {
    "execution": {
     "iopub.execute_input": "2021-10-31T12:46:46.243124Z",
     "iopub.status.busy": "2021-10-31T12:46:46.242061Z",
     "iopub.status.idle": "2021-10-31T12:46:47.065571Z",
     "shell.execute_reply": "2021-10-31T12:46:47.064788Z",
     "shell.execute_reply.started": "2021-10-07T09:06:43.00537Z"
    },
    "papermill": {
     "duration": 0.873143,
     "end_time": "2021-10-31T12:46:47.065794",
     "exception": false,
     "start_time": "2021-10-31T12:46:46.192651",
     "status": "completed"
    },
    "tags": []
   },
   "outputs": [],
   "source": [
    "X_train, X_val, y_train, y_val = train_test_split(X_train, y_train, test_size = 0.33, random_state=2021)"
   ]
  },
  {
   "cell_type": "markdown",
   "id": "d9ca5ef8",
   "metadata": {
    "papermill": {
     "duration": 0.039759,
     "end_time": "2021-10-31T12:46:47.146460",
     "exception": false,
     "start_time": "2021-10-31T12:46:47.106701",
     "status": "completed"
    },
    "tags": []
   },
   "source": [
    "# Simple Model\n",
    "First we start with a simple model based on the feature in the train and test data."
   ]
  },
  {
   "cell_type": "markdown",
   "id": "57f0151c",
   "metadata": {
    "papermill": {
     "duration": 0.04127,
     "end_time": "2021-10-31T12:46:47.227605",
     "exception": false,
     "start_time": "2021-10-31T12:46:47.186335",
     "status": "completed"
    },
    "tags": []
   },
   "source": [
    "XGB Regression:"
   ]
  },
  {
   "cell_type": "code",
   "execution_count": 21,
   "id": "899eab18",
   "metadata": {
    "execution": {
     "iopub.execute_input": "2021-10-31T12:46:47.314680Z",
     "iopub.status.busy": "2021-10-31T12:46:47.313209Z",
     "iopub.status.idle": "2021-10-31T12:51:23.124572Z",
     "shell.execute_reply": "2021-10-31T12:51:23.125296Z",
     "shell.execute_reply.started": "2021-10-07T09:06:43.595195Z"
    },
    "papermill": {
     "duration": 275.856981,
     "end_time": "2021-10-31T12:51:23.125552",
     "exception": false,
     "start_time": "2021-10-31T12:46:47.268571",
     "status": "completed"
    },
    "tags": []
   },
   "outputs": [
    {
     "name": "stdout",
     "output_type": "stream",
     "text": [
      "Root Mean Squared Logaritmic Error: 1.145747626780815\n"
     ]
    }
   ],
   "source": [
    "model = XGBRegressor(objective='reg:squaredlogerror', n_estimators=200)\n",
    "model.fit(X_train, y_train)\n",
    "y_val_pred = model.predict(X_val)\n",
    "y_val_pred = np.where(y_val_pred<0, 0, y_val_pred)\n",
    "print('Root Mean Squared Logaritmic Error:', np.sqrt(mean_squared_log_error(y_val, y_val_pred)))"
   ]
  },
  {
   "cell_type": "markdown",
   "id": "a2e6e51d",
   "metadata": {
    "papermill": {
     "duration": 0.040807,
     "end_time": "2021-10-31T12:51:23.206800",
     "exception": false,
     "start_time": "2021-10-31T12:51:23.165993",
     "status": "completed"
    },
    "tags": []
   },
   "source": [
    "Linear Regression:"
   ]
  },
  {
   "cell_type": "code",
   "execution_count": 22,
   "id": "233cc949",
   "metadata": {
    "execution": {
     "iopub.execute_input": "2021-10-31T12:51:23.300322Z",
     "iopub.status.busy": "2021-10-31T12:51:23.298390Z",
     "iopub.status.idle": "2021-10-31T12:51:24.047214Z",
     "shell.execute_reply": "2021-10-31T12:51:24.046352Z",
     "shell.execute_reply.started": "2021-10-07T09:10:52.950911Z"
    },
    "papermill": {
     "duration": 0.799932,
     "end_time": "2021-10-31T12:51:24.047433",
     "exception": false,
     "start_time": "2021-10-31T12:51:23.247501",
     "status": "completed"
    },
    "tags": []
   },
   "outputs": [
    {
     "name": "stdout",
     "output_type": "stream",
     "text": [
      "Root Mean Squared Logaritmic Error: 2.8303907839997864\n"
     ]
    }
   ],
   "source": [
    "reg = LinearRegression(normalize=True).fit(X_train, y_train)\n",
    "y_val_pred = reg.predict(X_val)\n",
    "y_val_pred = np.where(y_val_pred<0, 0, y_val_pred)\n",
    "print('Root Mean Squared Logaritmic Error:', np.sqrt(mean_squared_log_error(y_val, y_val_pred)))"
   ]
  },
  {
   "cell_type": "markdown",
   "id": "92946db8",
   "metadata": {
    "papermill": {
     "duration": 0.041007,
     "end_time": "2021-10-31T12:51:24.130408",
     "exception": false,
     "start_time": "2021-10-31T12:51:24.089401",
     "status": "completed"
    },
    "tags": []
   },
   "source": [
    "# Predict Test Data"
   ]
  },
  {
   "cell_type": "code",
   "execution_count": 23,
   "id": "5cf60644",
   "metadata": {
    "execution": {
     "iopub.execute_input": "2021-10-31T12:51:24.230010Z",
     "iopub.status.busy": "2021-10-31T12:51:24.219888Z",
     "iopub.status.idle": "2021-10-31T12:51:24.323921Z",
     "shell.execute_reply": "2021-10-31T12:51:24.324704Z",
     "shell.execute_reply.started": "2021-10-07T09:10:53.556424Z"
    },
    "papermill": {
     "duration": 0.153054,
     "end_time": "2021-10-31T12:51:24.324990",
     "exception": false,
     "start_time": "2021-10-31T12:51:24.171936",
     "status": "completed"
    },
    "tags": []
   },
   "outputs": [],
   "source": [
    "y_test_XGB = model.predict(X_test)\n",
    "y_test_REG = model.predict(X_test)\n",
    "samp_subm[target] = (0.8*y_test_XGB+0.2*y_test_REG)"
   ]
  },
  {
   "cell_type": "code",
   "execution_count": 24,
   "id": "3d246808",
   "metadata": {
    "execution": {
     "iopub.execute_input": "2021-10-31T12:51:24.420477Z",
     "iopub.status.busy": "2021-10-31T12:51:24.419273Z",
     "iopub.status.idle": "2021-10-31T12:51:24.424767Z",
     "shell.execute_reply": "2021-10-31T12:51:24.425379Z",
     "shell.execute_reply.started": "2021-10-07T09:10:53.72429Z"
    },
    "papermill": {
     "duration": 0.055756,
     "end_time": "2021-10-31T12:51:24.425633",
     "exception": false,
     "start_time": "2021-10-31T12:51:24.369877",
     "status": "completed"
    },
    "tags": []
   },
   "outputs": [],
   "source": [
    "samp_subm[target] = np.where(samp_subm[target]<0, 0, samp_subm[target])"
   ]
  },
  {
   "cell_type": "markdown",
   "id": "696fb09c",
   "metadata": {
    "papermill": {
     "duration": 0.040311,
     "end_time": "2021-10-31T12:51:24.509635",
     "exception": false,
     "start_time": "2021-10-31T12:51:24.469324",
     "status": "completed"
    },
    "tags": []
   },
   "source": [
    "# Export"
   ]
  },
  {
   "cell_type": "code",
   "execution_count": 25,
   "id": "033a7699",
   "metadata": {
    "execution": {
     "iopub.execute_input": "2021-10-31T12:51:24.598801Z",
     "iopub.status.busy": "2021-10-31T12:51:24.595156Z",
     "iopub.status.idle": "2021-10-31T12:51:24.705743Z",
     "shell.execute_reply": "2021-10-31T12:51:24.705001Z",
     "shell.execute_reply.started": "2021-10-07T09:10:53.730946Z"
    },
    "papermill": {
     "duration": 0.155587,
     "end_time": "2021-10-31T12:51:24.705987",
     "exception": false,
     "start_time": "2021-10-31T12:51:24.550400",
     "status": "completed"
    },
    "tags": []
   },
   "outputs": [],
   "source": [
    "samp_subm.to_csv('submission.csv', index=False)"
   ]
  }
 ],
 "metadata": {
  "kernelspec": {
   "display_name": "Python 3",
   "language": "python",
   "name": "python3"
  },
  "language_info": {
   "codemirror_mode": {
    "name": "ipython",
    "version": 3
   },
   "file_extension": ".py",
   "mimetype": "text/x-python",
   "name": "python",
   "nbconvert_exporter": "python",
   "pygments_lexer": "ipython3",
   "version": "3.7.10"
  },
  "papermill": {
   "default_parameters": {},
   "duration": 374.468,
   "end_time": "2021-10-31T12:51:26.611871",
   "environment_variables": {},
   "exception": null,
   "input_path": "__notebook__.ipynb",
   "output_path": "__notebook__.ipynb",
   "parameters": {},
   "start_time": "2021-10-31T12:45:12.143871",
   "version": "2.3.3"
  }
 },
 "nbformat": 4,
 "nbformat_minor": 5
}
