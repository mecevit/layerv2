{
 "cells": [
  {
   "cell_type": "code",
   "execution_count": 1,
   "metadata": {
    "tags": []
   },
   "outputs": [],
   "source": [
    "import sys\n",
    "sys.path.append('..')\n",
    "\n",
    "from layersdk import dataset, model, Layer, File, Dataset, SQL, assert_unique, \\\n",
    "    assert_not_null, assert_valid_values, assert_true\n",
    "\n",
    "from sklearn.ensemble import RandomForestClassifier\n",
    "from sklearn.model_selection import train_test_split\n",
    "from sklearn.metrics import accuracy_score\n",
    "import pandas as pd"
   ]
  },
  {
   "cell_type": "code",
   "execution_count": 3,
   "metadata": {},
   "outputs": [
    {
     "data": {
      "text/plain": [
       "RandomForestClassifier()"
      ]
     },
     "execution_count": 3,
     "metadata": {},
     "output_type": "execute_result"
    }
   ],
   "source": [
    "def read_dataset():\n",
    "    df = pd.read_csv(\"titanic.csv\")\n",
    "    return df\n",
    "\n",
    "def clean_sex(sex):\n",
    "    result = 0\n",
    "    if sex == \"female\":\n",
    "        result = 0\n",
    "    elif sex == \"male\":\n",
    "        result = 1\n",
    "    return result\n",
    "\n",
    "\n",
    "def clean_age(data):\n",
    "    age = data[0]\n",
    "    pclass = data[1]\n",
    "    if pd.isnull(age):\n",
    "        if pclass == 1: return 37\n",
    "        elif pclass == 2: return 29\n",
    "        else: return 24\n",
    "    else:\n",
    "        return age\n",
    "\n",
    "def extract_features():\n",
    "    df = read_dataset()\n",
    "\n",
    "    df['Sex'] = df['Sex'].apply(clean_sex)\n",
    "    df['Age'] = df[['Age', 'Pclass']].apply(clean_age, axis=1)\n",
    "\n",
    "    df = df.drop([\"PassengerId\", \"Name\", \"Cabin\", \"Ticket\", \"Embarked\"], axis=1)\n",
    "\n",
    "    return df\n",
    "\n",
    "def train():\n",
    "    df = extract_features()\n",
    "\n",
    "    X = df.drop([\"Survived\"], axis=1)\n",
    "    y = df[\"Survived\"]\n",
    "    X_train, X_test, y_train, y_test = train_test_split(X, y, test_size=0.2,\n",
    "                                                        random_state=42)\n",
    "\n",
    "    random_forest = RandomForestClassifier(n_estimators=100)\n",
    "    random_forest.fit(X_train, y_train)\n",
    "    y_pred = random_forest.predict(X_test)\n",
    "    acc = accuracy_score(y_test, y_pred)\n",
    "    return random_forest\n",
    "\n",
    "\n",
    "train()\n",
    "# ++ init Layer\n",
    "# layer = Layer(project_name=\"ltv_project\", environment='requirements.txt')\n",
    "\n",
    "# ++ To run the whole project on Layer Infra\n",
    "# layer.run([read_dataset, extract_features, train])"
   ]
  },
  {
   "cell_type": "code",
   "execution_count": null,
   "metadata": {},
   "outputs": [],
   "source": []
  }
 ],
 "metadata": {
  "kernelspec": {
   "display_name": "Python 3 (ipykernel)",
   "language": "python",
   "name": "python3"
  },
  "language_info": {
   "codemirror_mode": {
    "name": "ipython",
    "version": 3
   },
   "file_extension": ".py",
   "mimetype": "text/x-python",
   "name": "python",
   "nbconvert_exporter": "python",
   "pygments_lexer": "ipython3",
   "version": "3.8.5"
  }
 },
 "nbformat": 4,
 "nbformat_minor": 4
}
