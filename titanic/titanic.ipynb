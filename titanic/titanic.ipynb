{
 "cells": [
  {
   "cell_type": "code",
   "execution_count": 1,
   "metadata": {
    "tags": []
   },
   "outputs": [
    {
     "ename": "ImportError",
     "evalue": "cannot import name 'Layer' from 'layer' (/Users/mehmetecevit/.pyenv/versions/3.8.5/lib/python3.8/site-packages/layer/__init__.py)",
     "output_type": "error",
     "traceback": [
      "\u001b[0;31m---------------------------------------------------------------------------\u001b[0m",
      "\u001b[0;31mImportError\u001b[0m                               Traceback (most recent call last)",
      "\u001b[0;32m/var/folders/d3/zq21tm7n5xz_zwlx6rrzlmk80000gn/T/ipykernel_56281/3471330798.py\u001b[0m in \u001b[0;36m<module>\u001b[0;34m\u001b[0m\n\u001b[1;32m      2\u001b[0m \u001b[0msys\u001b[0m\u001b[0;34m.\u001b[0m\u001b[0mpath\u001b[0m\u001b[0;34m.\u001b[0m\u001b[0mappend\u001b[0m\u001b[0;34m(\u001b[0m\u001b[0;34m'..'\u001b[0m\u001b[0;34m)\u001b[0m\u001b[0;34m\u001b[0m\u001b[0;34m\u001b[0m\u001b[0m\n\u001b[1;32m      3\u001b[0m \u001b[0;34m\u001b[0m\u001b[0m\n\u001b[0;32m----> 4\u001b[0;31m \u001b[0;32mfrom\u001b[0m \u001b[0mlayer\u001b[0m \u001b[0;32mimport\u001b[0m \u001b[0mLayer\u001b[0m\u001b[0;34m,\u001b[0m \u001b[0mdataset\u001b[0m\u001b[0;34m,\u001b[0m \u001b[0mmodel\u001b[0m\u001b[0;34m\u001b[0m\u001b[0;34m\u001b[0m\u001b[0m\n\u001b[0m\u001b[1;32m      5\u001b[0m \u001b[0;34m\u001b[0m\u001b[0m\n\u001b[1;32m      6\u001b[0m \u001b[0;32mfrom\u001b[0m \u001b[0msklearn\u001b[0m\u001b[0;34m.\u001b[0m\u001b[0mensemble\u001b[0m \u001b[0;32mimport\u001b[0m \u001b[0mRandomForestClassifier\u001b[0m\u001b[0;34m\u001b[0m\u001b[0;34m\u001b[0m\u001b[0m\n",
      "\u001b[0;31mImportError\u001b[0m: cannot import name 'Layer' from 'layer' (/Users/mehmetecevit/.pyenv/versions/3.8.5/lib/python3.8/site-packages/layer/__init__.py)"
     ]
    }
   ],
   "source": [
    "import sys\n",
    "sys.path.append('..')\n",
    "\n",
    "from layer import Layer, dataset, model\n",
    "\n",
    "from sklearn.ensemble import RandomForestClassifier\n",
    "from sklearn.model_selection import train_test_split\n",
    "from sklearn.metrics import accuracy_score\n",
    "import pandas as pd\n",
    "\n",
    "\n",
    "@dataset(\"dummy_dataset\")\n",
    "def build_dummy():\n",
    "    data = [[1, 'tom', '01011999'], [2, 'nick', '01011983'],\n",
    "            [3, 'juli', '01012002']]\n",
    "    columns = ['id', 'name', 'birth']\n",
    "\n",
    "    df = pd.DataFrame(data, columns=columns)\n",
    "    return df\n",
    "\n",
    "\n",
    "@dataset('raw_passengers')\n",
    "def read_and_clean_dataset():\n",
    "    df = pd.read_csv(\"titanic.csv\")\n",
    "    layer.log(f\"Total passengers: {len(df)}\")\n",
    "    return df\n",
    "\n",
    "\n",
    "def clean_sex(sex):\n",
    "    result = 0\n",
    "    if sex == \"female\":\n",
    "        result = 0\n",
    "    elif sex == \"male\":\n",
    "        result = 1\n",
    "    return result\n",
    "\n",
    "\n",
    "def clean_age(data):\n",
    "    age = data[0]\n",
    "    pclass = data[1]\n",
    "    if pd.isnull(age):\n",
    "        if pclass == 1:\n",
    "            return 37\n",
    "        elif pclass == 2:\n",
    "            return 29\n",
    "        else:\n",
    "            return 24\n",
    "    else:\n",
    "        return age\n",
    "\n",
    "\n",
    "@dataset('features')\n",
    "def extract_features():\n",
    "    df = layer.get_dataset(\"raw_passengers\").to_pandas()\n",
    "\n",
    "    df['Sex'] = df['Sex'].apply(clean_sex)\n",
    "    df['Age'] = df[['Age', 'Pclass']].apply(clean_age, axis=1)\n",
    "\n",
    "    df = df.drop([\"PassengerId\", \"Name\", \"Cabin\", \"Ticket\", \"Embarked\"], axis=1)\n",
    "\n",
    "    layer.log(f'Features: {list(df.columns)}')\n",
    "    layer.log(f'Total Count: {len(df)}')\n",
    "    return df\n",
    "\n",
    "\n",
    "@model(name='survival_model')\n",
    "def train():\n",
    "    df = layer.get_dataset(\"features\").to_pandas()\n",
    "    layer.log(f\"Training data count: {len(df)}\")\n",
    "\n",
    "    X = df.drop([\"Survived\"], axis=1)\n",
    "    y = df[\"Survived\"]\n",
    "    X_train, X_test, y_train, y_test = train_test_split(X, y, test_size=0.2,\n",
    "                                                        random_state=42)\n",
    "\n",
    "    random_forest = RandomForestClassifier(n_estimators=100)\n",
    "    random_forest.fit(X_train, y_train)\n",
    "    y_pred = random_forest.predict(X_test)\n",
    "    acc = accuracy_score(y_test, y_pred)\n",
    "    layer.log_metric(\"accuracy\", f'{acc:.4f}')\n",
    "    return random_forest\n",
    "\n",
    "\n",
    "# ++ init Layer\n",
    "layer = Layer(project_name=\"ltv_project\", environment='requirements.txt')\n",
    "\n",
    "# ++ To run the whole project on Layer Infra\n",
    "layer.run([read_and_clean_dataset, extract_features, train])\n",
    "\n",
    "# ++ To train model on Layer infra\n",
    "# layer.run([train])\n",
    "\n",
    "# ++ To debug the code locally, just call the function:\n",
    "# train()\n",
    "# extract_features()\n",
    "\n",
    "# read_and_clean_dataset()\n",
    "# train()"
   ]
  },
  {
   "cell_type": "code",
   "execution_count": 3,
   "metadata": {},
   "outputs": [
    {
     "name": "stdout",
     "output_type": "stream",
     "text": [
      "<code object foo at 0x170b57d40, file \"/var/folders/d3/zq21tm7n5xz_zwlx6rrzlmk80000gn/T/ipykernel_50111/2381311301.py\", line 7>\n",
      "50\n"
     ]
    }
   ],
   "source": [
    "import marshal, types\n",
    "\n",
    "def test(x):\n",
    "    return x * 5\n",
    "\n",
    "\n",
    "def foo(x):\n",
    "    return test(x)\n",
    "\n",
    "\n",
    "print(foo.__code__)\n",
    "\n",
    "code_string = marshal.dumps(foo.__code__)\n",
    "\n",
    "code = marshal.loads(code_string)\n",
    "func = types.FunctionType(code, globals(), \"some_func_name\")\n",
    "\n",
    "print(func(10))"
   ]
  },
  {
   "cell_type": "code",
   "execution_count": 3,
   "metadata": {},
   "outputs": [],
   "source": []
  }
 ],
 "metadata": {
  "kernelspec": {
   "display_name": "Python 3 (ipykernel)",
   "language": "python",
   "name": "python3"
  },
  "language_info": {
   "codemirror_mode": {
    "name": "ipython",
    "version": 3
   },
   "file_extension": ".py",
   "mimetype": "text/x-python",
   "name": "python",
   "nbconvert_exporter": "python",
   "pygments_lexer": "ipython3",
   "version": "3.8.5"
  }
 },
 "nbformat": 4,
 "nbformat_minor": 4
}
